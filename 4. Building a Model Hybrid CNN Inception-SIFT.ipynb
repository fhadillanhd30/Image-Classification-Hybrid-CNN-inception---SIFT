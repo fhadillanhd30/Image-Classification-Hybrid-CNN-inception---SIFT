{
  "nbformat": 4,
  "nbformat_minor": 0,
  "metadata": {
    "colab": {
      "provenance": [],
      "gpuType": "T4"
    },
    "kernelspec": {
      "name": "python3",
      "display_name": "Python 3"
    },
    "language_info": {
      "name": "python"
    },
    "accelerator": "GPU",
    "gpuClass": "standard"
  },
  "cells": [
    {
      "cell_type": "code",
      "source": [
        "def inception_module(x,filters_a,\n",
        "                     filters_b1,filters_b2,\n",
        "                     filters_c1,filters_c2,\n",
        "                     filters_d1,filters_d2,\n",
        "                     filters_pool_proj,name=None):\n",
        "  conv_a = Conv2D(filters_a, (1, 1), padding='same', activation='relu', kernel_initializer=kernel_init, bias_initializer=bias_init)(x)\n",
        "  conv_b = Conv2D(filters_b1, (1, 1), padding='same', activation='relu', kernel_initializer=kernel_init, bias_initializer=bias_init)(x)\n",
        "  conv_b = Conv2D(filters_b2, (3, 3), padding='same', activation='relu', kernel_initializer=kernel_init, bias_initializer=bias_init)(conv_b)\n",
        "  conv_c = Conv2D(filters_c1, (1, 1), padding='same', activation='relu', kernel_initializer=kernel_init, bias_initializer=bias_init)(x)\n",
        "  conv_c = Conv2D(filters_c2, (5, 5), padding='same', activation='relu', kernel_initializer=kernel_init, bias_initializer=bias_init)(conv_c)\n",
        "  conv_d = Conv2D(filters_d1, (1, 1), padding='same', activation='relu', kernel_initializer=kernel_init, bias_initializer=bias_init)(x)\n",
        "  conv_d = Conv2D(filters_d2, (7, 7), padding='same', activation='relu', kernel_initializer=kernel_init, bias_initializer=bias_init)(conv_d)\n",
        "  pool_proj = MaxPool2D((3, 3), strides=(1, 1), padding='same')(x)\n",
        "  pool_proj = Conv2D(filters_pool_proj, (1, 1), padding='same', activation='relu', kernel_initializer=kernel_init, bias_initializer=bias_init)(pool_proj)\n",
        "  output = concatenate([conv_a, conv_b, conv_c, conv_d, pool_proj], axis=3, name=name)\n",
        "  return output\n",
        "\n",
        "kernel_init = keras.initializers.glorot_uniform()\n",
        "bias_init = keras.initializers.Constant(value=0.2)"
      ],
      "metadata": {
        "id": "nX10ovlVErfE"
      },
      "execution_count": null,
      "outputs": []
    },
    {
      "cell_type": "code",
      "source": [
        "inp_rgb = Input(shape=(224, 224, 3))\n",
        "x_rgb = Conv2D(32, (3, 3), padding='same', strides=(1, 1), activation='relu')(inp_rgb)\n",
        "x_rgb = MaxPool2D((3, 3), padding='same', strides=(2, 2))(x_rgb)\n",
        "x_rgb = inception_module(x_rgb,filters_a=32,\n",
        "                         filters_b1=32,filters_b2=48,\n",
        "                         filters_c1=32,filters_c2=48,\n",
        "                         filters_d1=32,filters_d2=48,\n",
        "                         filters_pool_proj=64)\n",
        "x_rgb = inception_module(x_rgb,filters_a=32,\n",
        "                         filters_b1=32,filters_b2=64,\n",
        "                         filters_c1=32,filters_c2=64,\n",
        "                         filters_d1=32,filters_d2=64,\n",
        "                         filters_pool_proj=80)\n",
        "x_rgb = MaxPool2D((3, 3), padding='same', strides=(2, 2))(x_rgb)\n",
        "x_rgb = inception_module(x_rgb,filters_a=32,\n",
        "                         filters_b1=32,filters_b2=80,\n",
        "                         filters_c1=32,filters_c2=80,\n",
        "                         filters_d1=32,filters_d2=80,\n",
        "                         filters_pool_proj=96)\n",
        "x_rgb = inception_module(x_rgb,filters_a=32,\n",
        "                         filters_b1=32,filters_b2=96,\n",
        "                         filters_c1=32,filters_c2=96,\n",
        "                         filters_d1=32,filters_d2=96,\n",
        "                         filters_pool_proj=128)\n",
        "x_rgb = Flatten()(x_rgb)\n",
        "x_rgb = Dropout(0.5)(x_rgb)\n",
        "x_rgb = Dense(128, activation='relu')(x_rgb)\n",
        "x_rgb = Model(inputs=inp_rgb, outputs=x_rgb)"
      ],
      "metadata": {
        "colab": {
          "base_uri": "https://localhost:8080/"
        },
        "id": "cTYpAcobEs3F",
        "outputId": "db88bc44-83ac-4792-ad9a-8b1ce79be3cf"
      },
      "execution_count": null,
      "outputs": [
        {
          "output_type": "stream",
          "name": "stderr",
          "text": [
            "/usr/local/lib/python3.10/dist-packages/keras/initializers/initializers.py:120: UserWarning: The initializer GlorotUniform is unseeded and being called multiple times, which will return identical values each time (even if the initializer is unseeded). Please update your code to provide a seed to the initializer, or avoid using the same initalizer instance more than once.\n",
            "  warnings.warn(\n"
          ]
        }
      ]
    },
    {
      "cell_type": "code",
      "source": [
        "inp_sift = Input(shape=(128,))\n",
        "x_sift = Flatten()(inp_sift)\n",
        "x_sift = Dense(128, activation='linear')(x_sift)\n",
        "x_sift = Model(inputs=inp_sift, outputs=x_sift)"
      ],
      "metadata": {
        "id": "9_v8D9lzEucl"
      },
      "execution_count": null,
      "outputs": []
    },
    {
      "cell_type": "code",
      "source": [
        "x = concatenate([x_rgb.output, x_sift.output])"
      ],
      "metadata": {
        "id": "t9js-dQcEwOg"
      },
      "execution_count": null,
      "outputs": []
    },
    {
      "cell_type": "code",
      "source": [
        "x = Dense(100, activation='relu')(x)\n",
        "output = Dense(10, activation='softmax')(x)"
      ],
      "metadata": {
        "id": "hcmrjMhyExz3"
      },
      "execution_count": null,
      "outputs": []
    },
    {
      "cell_type": "code",
      "source": [
        "merged_model = Model(inputs=[x_rgb.input, x_sift.input], outputs=output)"
      ],
      "metadata": {
        "id": "y5xGp7v5EzFU"
      },
      "execution_count": null,
      "outputs": []
    },
    {
      "cell_type": "code",
      "source": [
        "merged_model.compile(loss='categorical_crossentropy', optimizer=Adam(lr=1e-5), metrics=['accuracy'])"
      ],
      "metadata": {
        "colab": {
          "base_uri": "https://localhost:8080/"
        },
        "id": "Y5QSSOaVE0Yd",
        "outputId": "65aa33e6-a09b-437c-eb3e-1b71278f0906"
      },
      "execution_count": null,
      "outputs": [
        {
          "output_type": "stream",
          "name": "stderr",
          "text": [
            "/usr/local/lib/python3.10/dist-packages/keras/optimizers/legacy/adam.py:117: UserWarning: The `lr` argument is deprecated, use `learning_rate` instead.\n",
            "  super().__init__(name, **kwargs)\n"
          ]
        }
      ]
    },
    {
      "cell_type": "code",
      "source": [
        "merged_model.summary()"
      ],
      "metadata": {
        "colab": {
          "base_uri": "https://localhost:8080/"
        },
        "id": "WFtkqsJ8E2Dd",
        "outputId": "96a3c4a8-72b7-43b1-a252-b223262304cc"
      },
      "execution_count": null,
      "outputs": [
        {
          "output_type": "stream",
          "name": "stdout",
          "text": [
            "Model: \"model_2\"\n",
            "__________________________________________________________________________________________________\n",
            " Layer (type)                   Output Shape         Param #     Connected to                     \n",
            "==================================================================================================\n",
            " input_1 (InputLayer)           [(None, 224, 224, 3  0           []                               \n",
            "                                )]                                                                \n",
            "                                                                                                  \n",
            " conv2d (Conv2D)                (None, 224, 224, 32  896         ['input_1[0][0]']                \n",
            "                                )                                                                 \n",
            "                                                                                                  \n",
            " max_pooling2d (MaxPooling2D)   (None, 112, 112, 32  0           ['conv2d[0][0]']                 \n",
            "                                )                                                                 \n",
            "                                                                                                  \n",
            " conv2d_2 (Conv2D)              (None, 112, 112, 32  1056        ['max_pooling2d[0][0]']          \n",
            "                                )                                                                 \n",
            "                                                                                                  \n",
            " conv2d_4 (Conv2D)              (None, 112, 112, 32  1056        ['max_pooling2d[0][0]']          \n",
            "                                )                                                                 \n",
            "                                                                                                  \n",
            " conv2d_6 (Conv2D)              (None, 112, 112, 32  1056        ['max_pooling2d[0][0]']          \n",
            "                                )                                                                 \n",
            "                                                                                                  \n",
            " max_pooling2d_1 (MaxPooling2D)  (None, 112, 112, 32  0          ['max_pooling2d[0][0]']          \n",
            "                                )                                                                 \n",
            "                                                                                                  \n",
            " conv2d_1 (Conv2D)              (None, 112, 112, 32  1056        ['max_pooling2d[0][0]']          \n",
            "                                )                                                                 \n",
            "                                                                                                  \n",
            " conv2d_3 (Conv2D)              (None, 112, 112, 48  13872       ['conv2d_2[0][0]']               \n",
            "                                )                                                                 \n",
            "                                                                                                  \n",
            " conv2d_5 (Conv2D)              (None, 112, 112, 48  38448       ['conv2d_4[0][0]']               \n",
            "                                )                                                                 \n",
            "                                                                                                  \n",
            " conv2d_7 (Conv2D)              (None, 112, 112, 48  75312       ['conv2d_6[0][0]']               \n",
            "                                )                                                                 \n",
            "                                                                                                  \n",
            " conv2d_8 (Conv2D)              (None, 112, 112, 64  2112        ['max_pooling2d_1[0][0]']        \n",
            "                                )                                                                 \n",
            "                                                                                                  \n",
            " concatenate (Concatenate)      (None, 112, 112, 24  0           ['conv2d_1[0][0]',               \n",
            "                                0)                                'conv2d_3[0][0]',               \n",
            "                                                                  'conv2d_5[0][0]',               \n",
            "                                                                  'conv2d_7[0][0]',               \n",
            "                                                                  'conv2d_8[0][0]']               \n",
            "                                                                                                  \n",
            " conv2d_10 (Conv2D)             (None, 112, 112, 32  7712        ['concatenate[0][0]']            \n",
            "                                )                                                                 \n",
            "                                                                                                  \n",
            " conv2d_12 (Conv2D)             (None, 112, 112, 32  7712        ['concatenate[0][0]']            \n",
            "                                )                                                                 \n",
            "                                                                                                  \n",
            " conv2d_14 (Conv2D)             (None, 112, 112, 32  7712        ['concatenate[0][0]']            \n",
            "                                )                                                                 \n",
            "                                                                                                  \n",
            " max_pooling2d_2 (MaxPooling2D)  (None, 112, 112, 24  0          ['concatenate[0][0]']            \n",
            "                                0)                                                                \n",
            "                                                                                                  \n",
            " conv2d_9 (Conv2D)              (None, 112, 112, 32  7712        ['concatenate[0][0]']            \n",
            "                                )                                                                 \n",
            "                                                                                                  \n",
            " conv2d_11 (Conv2D)             (None, 112, 112, 64  18496       ['conv2d_10[0][0]']              \n",
            "                                )                                                                 \n",
            "                                                                                                  \n",
            " conv2d_13 (Conv2D)             (None, 112, 112, 64  51264       ['conv2d_12[0][0]']              \n",
            "                                )                                                                 \n",
            "                                                                                                  \n",
            " conv2d_15 (Conv2D)             (None, 112, 112, 64  100416      ['conv2d_14[0][0]']              \n",
            "                                )                                                                 \n",
            "                                                                                                  \n",
            " conv2d_16 (Conv2D)             (None, 112, 112, 80  19280       ['max_pooling2d_2[0][0]']        \n",
            "                                )                                                                 \n",
            "                                                                                                  \n",
            " concatenate_1 (Concatenate)    (None, 112, 112, 30  0           ['conv2d_9[0][0]',               \n",
            "                                4)                                'conv2d_11[0][0]',              \n",
            "                                                                  'conv2d_13[0][0]',              \n",
            "                                                                  'conv2d_15[0][0]',              \n",
            "                                                                  'conv2d_16[0][0]']              \n",
            "                                                                                                  \n",
            " max_pooling2d_3 (MaxPooling2D)  (None, 56, 56, 304)  0          ['concatenate_1[0][0]']          \n",
            "                                                                                                  \n",
            " conv2d_18 (Conv2D)             (None, 56, 56, 32)   9760        ['max_pooling2d_3[0][0]']        \n",
            "                                                                                                  \n",
            " conv2d_20 (Conv2D)             (None, 56, 56, 32)   9760        ['max_pooling2d_3[0][0]']        \n",
            "                                                                                                  \n",
            " conv2d_22 (Conv2D)             (None, 56, 56, 32)   9760        ['max_pooling2d_3[0][0]']        \n",
            "                                                                                                  \n",
            " max_pooling2d_4 (MaxPooling2D)  (None, 56, 56, 304)  0          ['max_pooling2d_3[0][0]']        \n",
            "                                                                                                  \n",
            " conv2d_17 (Conv2D)             (None, 56, 56, 32)   9760        ['max_pooling2d_3[0][0]']        \n",
            "                                                                                                  \n",
            " conv2d_19 (Conv2D)             (None, 56, 56, 80)   23120       ['conv2d_18[0][0]']              \n",
            "                                                                                                  \n",
            " conv2d_21 (Conv2D)             (None, 56, 56, 80)   64080       ['conv2d_20[0][0]']              \n",
            "                                                                                                  \n",
            " conv2d_23 (Conv2D)             (None, 56, 56, 80)   125520      ['conv2d_22[0][0]']              \n",
            "                                                                                                  \n",
            " conv2d_24 (Conv2D)             (None, 56, 56, 96)   29280       ['max_pooling2d_4[0][0]']        \n",
            "                                                                                                  \n",
            " concatenate_2 (Concatenate)    (None, 56, 56, 368)  0           ['conv2d_17[0][0]',              \n",
            "                                                                  'conv2d_19[0][0]',              \n",
            "                                                                  'conv2d_21[0][0]',              \n",
            "                                                                  'conv2d_23[0][0]',              \n",
            "                                                                  'conv2d_24[0][0]']              \n",
            "                                                                                                  \n",
            " conv2d_26 (Conv2D)             (None, 56, 56, 32)   11808       ['concatenate_2[0][0]']          \n",
            "                                                                                                  \n",
            " conv2d_28 (Conv2D)             (None, 56, 56, 32)   11808       ['concatenate_2[0][0]']          \n",
            "                                                                                                  \n",
            " conv2d_30 (Conv2D)             (None, 56, 56, 32)   11808       ['concatenate_2[0][0]']          \n",
            "                                                                                                  \n",
            " max_pooling2d_5 (MaxPooling2D)  (None, 56, 56, 368)  0          ['concatenate_2[0][0]']          \n",
            "                                                                                                  \n",
            " conv2d_25 (Conv2D)             (None, 56, 56, 32)   11808       ['concatenate_2[0][0]']          \n",
            "                                                                                                  \n",
            " conv2d_27 (Conv2D)             (None, 56, 56, 96)   27744       ['conv2d_26[0][0]']              \n",
            "                                                                                                  \n",
            " conv2d_29 (Conv2D)             (None, 56, 56, 96)   76896       ['conv2d_28[0][0]']              \n",
            "                                                                                                  \n",
            " conv2d_31 (Conv2D)             (None, 56, 56, 96)   150624      ['conv2d_30[0][0]']              \n",
            "                                                                                                  \n",
            " conv2d_32 (Conv2D)             (None, 56, 56, 128)  47232       ['max_pooling2d_5[0][0]']        \n",
            "                                                                                                  \n",
            " concatenate_3 (Concatenate)    (None, 56, 56, 448)  0           ['conv2d_25[0][0]',              \n",
            "                                                                  'conv2d_27[0][0]',              \n",
            "                                                                  'conv2d_29[0][0]',              \n",
            "                                                                  'conv2d_31[0][0]',              \n",
            "                                                                  'conv2d_32[0][0]']              \n",
            "                                                                                                  \n",
            " flatten (Flatten)              (None, 1404928)      0           ['concatenate_3[0][0]']          \n",
            "                                                                                                  \n",
            " input_2 (InputLayer)           [(None, 128)]        0           []                               \n",
            "                                                                                                  \n",
            " dropout (Dropout)              (None, 1404928)      0           ['flatten[0][0]']                \n",
            "                                                                                                  \n",
            " flatten_1 (Flatten)            (None, 128)          0           ['input_2[0][0]']                \n",
            "                                                                                                  \n",
            " dense (Dense)                  (None, 128)          179830912   ['dropout[0][0]']                \n",
            "                                                                                                  \n",
            " dense_1 (Dense)                (None, 128)          16512       ['flatten_1[0][0]']              \n",
            "                                                                                                  \n",
            " concatenate_4 (Concatenate)    (None, 256)          0           ['dense[0][0]',                  \n",
            "                                                                  'dense_1[0][0]']                \n",
            "                                                                                                  \n",
            " dense_2 (Dense)                (None, 100)          25700       ['concatenate_4[0][0]']          \n",
            "                                                                                                  \n",
            " dense_3 (Dense)                (None, 10)           1010        ['dense_2[0][0]']                \n",
            "                                                                                                  \n",
            "==================================================================================================\n",
            "Total params: 180,860,070\n",
            "Trainable params: 180,860,070\n",
            "Non-trainable params: 0\n",
            "__________________________________________________________________________________________________\n"
          ]
        }
      ]
    }
  ]
}