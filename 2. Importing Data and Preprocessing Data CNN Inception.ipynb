{
  "nbformat": 4,
  "nbformat_minor": 0,
  "metadata": {
    "colab": {
      "provenance": [],
      "gpuType": "T4"
    },
    "kernelspec": {
      "name": "python3",
      "display_name": "Python 3"
    },
    "language_info": {
      "name": "python"
    },
    "accelerator": "GPU",
    "gpuClass": "standard"
  },
  "cells": [
    {
      "cell_type": "code",
      "source": [
        "drive.mount('/content/drive')\n",
        "os.chdir(\"/content/drive/MyDrive\")\n"
      ],
      "metadata": {
        "colab": {
          "base_uri": "https://localhost:8080/"
        },
        "id": "a0vYanfCEJjC",
        "outputId": "7925f8e9-1c5a-4368-844f-67d226653b4a"
      },
      "execution_count": null,
      "outputs": [
        {
          "output_type": "stream",
          "name": "stdout",
          "text": [
            "Drive already mounted at /content/drive; to attempt to forcibly remount, call drive.mount(\"/content/drive\", force_remount=True).\n"
          ]
        }
      ]
    },
    {
      "cell_type": "code",
      "source": [
        "train_path = (\"/content/drive/MyDrive/YANG DIPAKE INI 80 TR 20 VAL/TRAIN\")\n",
        "test_path = (\"/content/drive/MyDrive/YANG DIPAKE INI 80 TR 20 VAL/TEST\")"
      ],
      "metadata": {
        "id": "oITXAf27EKze"
      },
      "execution_count": null,
      "outputs": []
    },
    {
      "cell_type": "code",
      "source": [
        "labels = ['C0', 'C1', 'C2', 'C3', 'C4', 'C5', 'C6', 'C7', 'C8', 'C9']"
      ],
      "metadata": {
        "id": "6KkAEzgJEMXX"
      },
      "execution_count": null,
      "outputs": []
    },
    {
      "cell_type": "code",
      "source": [
        "X_train = []\n",
        "y_train = []\n",
        "for label in labels:\n",
        "    label_path = os.path.join(train_path, label)\n",
        "    for file_name in os.listdir(label_path):\n",
        "        if file_name.endswith('.jpg'):\n",
        "            img_path = os.path.join(label_path, file_name)\n",
        "            img = cv2.imread(img_path)\n",
        "            img = cv2.resize(img, (224, 224))\n",
        "            X_train.append(img)\n",
        "            y_train.append(label)"
      ],
      "metadata": {
        "id": "5axc9gd-ENd1"
      },
      "execution_count": null,
      "outputs": []
    },
    {
      "cell_type": "code",
      "source": [
        "X_train = np.asarray(X_train)\n",
        "y_train = np.asarray(y_train)"
      ],
      "metadata": {
        "id": "ZFFAJqmREOod"
      },
      "execution_count": null,
      "outputs": []
    },
    {
      "cell_type": "code",
      "source": [
        "X_test = []\n",
        "y_test = []\n",
        "for label in labels:\n",
        "    label_path = os.path.join(test_path, label)\n",
        "    for file_name in os.listdir(label_path):\n",
        "        if file_name.endswith('.jpg'):\n",
        "            img_path = os.path.join(label_path, file_name)\n",
        "            img = cv2.imread(img_path)\n",
        "            img = cv2.resize(img, (224, 224))\n",
        "            X_test.append(img)\n",
        "            y_test.append(label)"
      ],
      "metadata": {
        "id": "HhIYJkn0ETWC"
      },
      "execution_count": null,
      "outputs": []
    },
    {
      "cell_type": "code",
      "source": [
        "X_test = np.asarray(X_test)\n",
        "y_test = np.asarray(y_test)"
      ],
      "metadata": {
        "id": "gqhRIpuYEUqf"
      },
      "execution_count": null,
      "outputs": []
    },
    {
      "cell_type": "code",
      "source": [
        "print(\"X_Train :\", X_train.shape)\n",
        "print(\"y_Train :\", y_train.shape)\n",
        "print(\"X_Test :\", X_test.shape)\n",
        "print(\"y_Test :\", y_test.shape)"
      ],
      "metadata": {
        "colab": {
          "base_uri": "https://localhost:8080/"
        },
        "id": "VYhado_kEXG2",
        "outputId": "0fc5a7f4-fa6c-42f9-eecd-15c638eafadf"
      },
      "execution_count": null,
      "outputs": [
        {
          "output_type": "stream",
          "name": "stdout",
          "text": [
            "X_Train : (2400, 224, 224, 3)\n",
            "y_Train : (2400,)\n",
            "X_Test : (600, 224, 224, 3)\n",
            "y_Test : (600,)\n"
          ]
        }
      ]
    },
    {
      "cell_type": "code",
      "source": [
        "X_train_rgb = np.array(X_train) / 255\n",
        "X_train_rgb = X_train_rgb.reshape(-1, 224, 224, 3)\n",
        "X_train_rgb = X_train_rgb.astype('float32')\n",
        "X_test_rgb = np.array(X_test) / 255\n",
        "X_test_rgb = X_test_rgb.reshape(-1, 224, 224, 3)\n",
        "X_test_rgb = X_test_rgb.astype('float32')"
      ],
      "metadata": {
        "id": "Oqa4PLqjEXfF"
      },
      "execution_count": null,
      "outputs": []
    },
    {
      "cell_type": "code",
      "source": [
        "y_train_rgb = np.array([labels.index(label) for label in y_train])\n",
        "y_test_rgb = np.array([labels.index(label) for label in y_test])"
      ],
      "metadata": {
        "id": "Ete46gamEY0z"
      },
      "execution_count": null,
      "outputs": []
    },
    {
      "cell_type": "code",
      "source": [
        "num_classes = len(labels)\n",
        "y_train_rgb = np.eye(num_classes)[y_train_rgb.astype('int32')]\n",
        "y_test_rgb = np.eye(num_classes)[y_test_rgb.astype('int32')]"
      ],
      "metadata": {
        "id": "KbpbK8usEZ4Z"
      },
      "execution_count": null,
      "outputs": []
    },
    {
      "cell_type": "code",
      "source": [
        "print(\"X_Train_rgb :\", X_train_rgb.shape)\n",
        "print(\"y_Train_rgb :\", y_train_rgb.shape)\n",
        "print(\"X_Test_rgb :\", X_test_rgb.shape)\n",
        "print(\"y_Test_rgb :\", y_test_rgb.shape)"
      ],
      "metadata": {
        "colab": {
          "base_uri": "https://localhost:8080/"
        },
        "id": "YIPH1XfwEa_B",
        "outputId": "d9f74570-3c34-4b73-bc04-18e251867b6d"
      },
      "execution_count": null,
      "outputs": [
        {
          "output_type": "stream",
          "name": "stdout",
          "text": [
            "X_Train_rgb : (2400, 224, 224, 3)\n",
            "y_Train_rgb : (2400, 10)\n",
            "X_Test_rgb : (600, 224, 224, 3)\n",
            "y_Test_rgb : (600, 10)\n"
          ]
        }
      ]
    }
  ]
}